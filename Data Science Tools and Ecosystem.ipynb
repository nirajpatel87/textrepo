{
 "cells": [
  {
   "cell_type": "markdown",
   "id": "cba22f3e-4cd9-48f0-92fd-0e75234c4324",
   "metadata": {},
   "source": [
    "# Data Science Tools and Ecosystem"
   ]
  },
  {
   "cell_type": "markdown",
   "id": "7784a3e1-912e-4df0-ba51-a5dbcf00e8eb",
   "metadata": {},
   "source": [
    "In this notebook, Data Science Tools and Ecosystem are summarized."
   ]
  },
  {
   "cell_type": "markdown",
   "id": "623bc0c2-ec53-4bf0-af82-e7cae0f9987c",
   "metadata": {},
   "source": [
    "### Some of the popular languages that Data Scientists use are:"
   ]
  },
  {
   "cell_type": "markdown",
   "id": "c6b69035-ef6f-4b57-b979-d26d4c621f6e",
   "metadata": {},
   "source": [
    "1. Python \n",
    "2. R program \n",
    "3. SQL "
   ]
  },
  {
   "cell_type": "markdown",
   "id": "cafb7105-d283-44e3-9ef5-052f76e66577",
   "metadata": {},
   "source": [
    "### Some of the commonly used libraries used by Data Scientists include:\n",
    "1. Panda\n",
    "2. Numpy\n",
    "3. Matplotlib"
   ]
  },
  {
   "cell_type": "markdown",
   "id": "9c2c3576-b5af-43ba-a971-bc15bb7f6a89",
   "metadata": {},
   "source": [
    "  #### Data Science Tools:\n",
    "\n",
    "  | Data science tools |\n",
    "  ---------------------\n",
    "  | Python |\n",
    "  | R program |\n",
    "  | SQL |\n",
    "  | Tensorflow |\n",
    "  "
   ]
  },
  {
   "cell_type": "markdown",
   "id": "e50e1ea3-9d75-4121-a8bc-1d1eafd16c86",
   "metadata": {},
   "source": [
    "### Below are a few examples of evaluating arithmetic expressions in Python"
   ]
  },
  {
   "cell_type": "code",
   "execution_count": 5,
   "id": "6e556d1d-9a5e-4c0f-a056-06166eed9ac4",
   "metadata": {},
   "outputs": [
    {
     "data": {
      "text/plain": [
       "17"
      ]
     },
     "execution_count": 5,
     "metadata": {},
     "output_type": "execute_result"
    }
   ],
   "source": [
    "(3*4)+5"
   ]
  },
  {
   "cell_type": "markdown",
   "id": "7f9eea43-42e6-4bc6-af47-a7de57b19fa2",
   "metadata": {},
   "source": [
    "This a simple arithmetic expression to mutiply then add integers"
   ]
  },
  {
   "cell_type": "code",
   "execution_count": 6,
   "id": "e2b13274-acf8-45b3-86b1-faefeaffa6d7",
   "metadata": {},
   "outputs": [
    {
     "data": {
      "text/plain": [
       "3.3333333333333335"
      ]
     },
     "execution_count": 6,
     "metadata": {},
     "output_type": "execute_result"
    }
   ],
   "source": [
    "200/60"
   ]
  },
  {
   "cell_type": "markdown",
   "id": "8bbe6e46-fdcb-4bc3-8db0-6ff61c3dd486",
   "metadata": {},
   "source": [
    "This will convert 200 minutes to hours by diving by 60"
   ]
  },
  {
   "cell_type": "markdown",
   "id": "8f2f8b31-c643-4f10-bb3c-4ab4535a2a8f",
   "metadata": {},
   "source": [
    "#### some of the key takeaways from the course"
   ]
  },
  {
   "cell_type": "markdown",
   "id": "1e477c97-ed33-4c7d-b23f-1056ac79e79d",
   "metadata": {},
   "source": [
    "# Objective"
   ]
  },
  {
   "cell_type": "markdown",
   "id": "beca0e3d-3bbb-47e3-85d6-7605418e0c7e",
   "metadata": {},
   "source": [
    "#### Unordered list:\n",
    "##### List popular languages for Data Science\n",
    "1. Python\n",
    "2. Julia\n",
    "3. R statistical language\n",
    "4. Java\n",
    "5. SQL\n",
    "6. Matlab\n",
    "   "
   ]
  },
  {
   "cell_type": "markdown",
   "id": "01529470-1b5f-49ab-a1d1-5a51ebf840f7",
   "metadata": {},
   "source": [
    "# Auther\n",
    "Niraj Patel"
   ]
  },
  {
   "cell_type": "code",
   "execution_count": null,
   "id": "91097ffb-4c7a-413b-b677-ff505445913e",
   "metadata": {},
   "outputs": [],
   "source": []
  }
 ],
 "metadata": {
  "kernelspec": {
   "display_name": "Python 3 (ipykernel)",
   "language": "python",
   "name": "python3"
  },
  "language_info": {
   "codemirror_mode": {
    "name": "ipython",
    "version": 3
   },
   "file_extension": ".py",
   "mimetype": "text/x-python",
   "name": "python",
   "nbconvert_exporter": "python",
   "pygments_lexer": "ipython3",
   "version": "3.11.5"
  }
 },
 "nbformat": 4,
 "nbformat_minor": 5
}
